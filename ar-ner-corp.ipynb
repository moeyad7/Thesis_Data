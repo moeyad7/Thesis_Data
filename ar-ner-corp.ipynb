{
 "cells": [
  {
   "cell_type": "code",
   "execution_count": 21,
   "metadata": {},
   "outputs": [],
   "source": [
    "import pandas as pd\n",
    "\n",
    "data_dir = \"./Other_Datasets/ArEnNER/\"\n",
    "name = \"TrainNoInteresctionITagaddLine\"\n",
    "\n",
    "bad_words = {'ARTICLE', 'REVISIT', 'ARTICLE', 'article', 'REVIIST', 'ARTICE', 'ARTICLE', 'FIX', 'ID', ' ', 'REVISSIT', 'REVISIIT'}\n",
    "\n",
    "sentences = []\n",
    "sentences_labels = []\n",
    "\n",
    "with open(data_dir + f\"{name}.txt\", 'r') as file:\n",
    "    sentence = []  # Initialize as a list\n",
    "    each_word_label = []\n",
    "    for i, line in enumerate(file):\n",
    "        # Check if the line is not empty\n",
    "        if line.strip():\n",
    "            parts = line.split(' ')\n",
    "            # Check if parts has enough elements\n",
    "            if len(parts) > 1:\n",
    "                word, label = parts[0], parts[1].strip()\n",
    "                # Check if the word is not in the set of bad words\n",
    "                if label not in bad_words:\n",
    "                    sentence.append(word)\n",
    "                    each_word_label.append(label)\n",
    "\n",
    "                # If the word is a period, it indicates the end of a sentence\n",
    "                if '.' == word.strip():\n",
    "                    if sentence:\n",
    "                        sentences.append(' '.join(sentence))\n",
    "                        sentences_labels.append(each_word_label)\n",
    "                        sentence = []\n",
    "                        each_word_label = []\n",
    "\n",
    "# Now you have sentences and their corresponding labels\n",
    "df = pd.DataFrame({'sentence': sentences, 'labels': sentences_labels})\n"
   ]
  },
  {
   "cell_type": "code",
   "execution_count": 22,
   "metadata": {},
   "outputs": [],
   "source": [
    "new_df = pd.DataFrame()\n",
    "\n",
    "for i in range(len(df)):\n",
    "    words = df['sentence'][i].split(' ')\n",
    "    labels = df['labels'][i]\n",
    "    num_words = len(words)\n",
    "    \n",
    "    for j in range(num_words):\n",
    "        new_row = pd.DataFrame({'label': [labels[j]], 'word': [words[j]], 'sentence': df['sentence'][i]})\n",
    "        new_df = pd.concat([new_df, new_row], ignore_index=True)\n"
   ]
  },
  {
   "cell_type": "code",
   "execution_count": 23,
   "metadata": {},
   "outputs": [
    {
     "data": {
      "text/plain": [
       "array(['O', 'I-LOC', 'I-PERS', 'I-MISC', 'I-ORG'], dtype=object)"
      ]
     },
     "execution_count": 23,
     "metadata": {},
     "output_type": "execute_result"
    }
   ],
   "source": [
    "new_df['label'].unique()"
   ]
  },
  {
   "cell_type": "code",
   "execution_count": 24,
   "metadata": {},
   "outputs": [],
   "source": [
    "type_df = new_df.copy()\n",
    "label_mapping = {\n",
    "    'B-LOC': 'LOC',\n",
    "    'I-LOC': 'LOC',\n",
    "    'B-PERS': 'PERS',\n",
    "    'I-PERS': 'PERS',\n",
    "    'B-ORG': 'ORG',\n",
    "    'I-ORG': 'ORG',\n",
    "    'B-MISC': 'MISC',\n",
    "    'I-MISC': 'MISC',\n",
    "    'O': 'O'\n",
    "}\n",
    "\n",
    "# Apply the mapping\n",
    "type_df['label'] = new_df['label'].map(label_mapping)"
   ]
  },
  {
   "cell_type": "code",
   "execution_count": 25,
   "metadata": {},
   "outputs": [
    {
     "data": {
      "text/plain": [
       "array(['O', 'LOC', 'PERS', 'MISC', 'ORG'], dtype=object)"
      ]
     },
     "execution_count": 25,
     "metadata": {},
     "output_type": "execute_result"
    }
   ],
   "source": [
    "type_df['label'].unique()"
   ]
  },
  {
   "cell_type": "code",
   "execution_count": 26,
   "metadata": {},
   "outputs": [],
   "source": [
    "type_df.drop(\"sentence\",axis=1,inplace=True)"
   ]
  },
  {
   "cell_type": "code",
   "execution_count": 27,
   "metadata": {},
   "outputs": [],
   "source": [
    "type_df.to_csv(data_dir + f\"{name}.csv\", index=False, header=False)"
   ]
  },
  {
   "cell_type": "code",
   "execution_count": null,
   "metadata": {},
   "outputs": [],
   "source": []
  },
  {
   "cell_type": "markdown",
   "metadata": {},
   "source": [
    "# Truncating data"
   ]
  },
  {
   "cell_type": "code",
   "execution_count": 30,
   "metadata": {},
   "outputs": [],
   "source": [
    "import pandas as pd\n",
    "data_dir = \"./Other_Datasets/ArEnNER/\"\n",
    "name = \"test\"\n",
    "\n",
    "df = pd.read_csv(data_dir + f\"{name}.csv\", header=None,names=['label','words'])"
   ]
  },
  {
   "cell_type": "code",
   "execution_count": 32,
   "metadata": {},
   "outputs": [
    {
     "data": {
      "text/plain": [
       "(27360, 2)"
      ]
     },
     "execution_count": 32,
     "metadata": {},
     "output_type": "execute_result"
    }
   ],
   "source": [
    "df.shape"
   ]
  },
  {
   "cell_type": "code",
   "execution_count": 33,
   "metadata": {},
   "outputs": [
    {
     "data": {
      "text/plain": [
       "label\n",
       "O       24123\n",
       "PERS     1308\n",
       "LOC       838\n",
       "ORG       752\n",
       "MISC      339\n",
       "Name: count, dtype: int64"
      ]
     },
     "execution_count": 33,
     "metadata": {},
     "output_type": "execute_result"
    }
   ],
   "source": [
    "df['label'].value_counts()"
   ]
  },
  {
   "cell_type": "code",
   "execution_count": 34,
   "metadata": {},
   "outputs": [],
   "source": [
    "def sample_rows(group):\n",
    "    return group.sample(min(500, len(group)))\n",
    "\n",
    "# Use groupby and apply to select 500 rows from each label\n",
    "sampled_data = df.groupby('label', group_keys=False).apply(sample_rows)\n"
   ]
  },
  {
   "cell_type": "code",
   "execution_count": 35,
   "metadata": {},
   "outputs": [],
   "source": [
    "sampled_data = sampled_data.sample(frac = 1)\n"
   ]
  },
  {
   "cell_type": "code",
   "execution_count": 39,
   "metadata": {},
   "outputs": [
    {
     "data": {
      "text/plain": [
       "label\n",
       "PERS    500\n",
       "ORG     500\n",
       "O       500\n",
       "LOC     500\n",
       "MISC    339\n",
       "Name: count, dtype: int64"
      ]
     },
     "execution_count": 39,
     "metadata": {},
     "output_type": "execute_result"
    }
   ],
   "source": [
    "sampled_data['label'].value_counts()"
   ]
  },
  {
   "cell_type": "code",
   "execution_count": 36,
   "metadata": {},
   "outputs": [],
   "source": [
    "sampled_data.to_csv(data_dir + \"test2.csv\", index=False, header=False)"
   ]
  },
  {
   "cell_type": "markdown",
   "metadata": {},
   "source": [
    "Removing MISC for zero shot"
   ]
  },
  {
   "cell_type": "code",
   "execution_count": 21,
   "metadata": {},
   "outputs": [],
   "source": [
    "import pandas as pd\n",
    "data_dir = \"./Other_Datasets/ANERcorpType/\"\n",
    "dataset = \"dev\"\n",
    "df = pd.read_csv(data_dir + dataset + '.csv', header=None,names=['label','words','sentence'])"
   ]
  },
  {
   "cell_type": "code",
   "execution_count": 22,
   "metadata": {},
   "outputs": [
    {
     "data": {
      "text/plain": [
       "(15014, 3)"
      ]
     },
     "execution_count": 22,
     "metadata": {},
     "output_type": "execute_result"
    }
   ],
   "source": [
    "df.shape"
   ]
  },
  {
   "cell_type": "code",
   "execution_count": 23,
   "metadata": {},
   "outputs": [],
   "source": [
    "df = df[df['label'] != 'MISC']"
   ]
  },
  {
   "cell_type": "code",
   "execution_count": 24,
   "metadata": {},
   "outputs": [
    {
     "data": {
      "text/plain": [
       "(14842, 3)"
      ]
     },
     "execution_count": 24,
     "metadata": {},
     "output_type": "execute_result"
    }
   ],
   "source": [
    "df.shape\n"
   ]
  },
  {
   "cell_type": "code",
   "execution_count": 25,
   "metadata": {},
   "outputs": [
    {
     "data": {
      "text/plain": [
       "label\n",
       "O       12942\n",
       "PERS      741\n",
       "ORG       727\n",
       "LOC       432\n",
       "Name: count, dtype: int64"
      ]
     },
     "execution_count": 25,
     "metadata": {},
     "output_type": "execute_result"
    }
   ],
   "source": [
    "df['label'].value_counts()"
   ]
  },
  {
   "cell_type": "code",
   "execution_count": 26,
   "metadata": {},
   "outputs": [],
   "source": [
    "output_dir = \"./Other_Datasets/ANERcorpZero/\"\n",
    "df.to_csv( output_dir + dataset + '.csv', index=False, header=False)"
   ]
  },
  {
   "cell_type": "code",
   "execution_count": null,
   "metadata": {},
   "outputs": [],
   "source": []
  }
 ],
 "metadata": {
  "kernelspec": {
   "display_name": "petenv",
   "language": "python",
   "name": "python3"
  },
  "language_info": {
   "codemirror_mode": {
    "name": "ipython",
    "version": 3
   },
   "file_extension": ".py",
   "mimetype": "text/x-python",
   "name": "python",
   "nbconvert_exporter": "python",
   "pygments_lexer": "ipython3",
   "version": "3.8.18"
  }
 },
 "nbformat": 4,
 "nbformat_minor": 2
}
