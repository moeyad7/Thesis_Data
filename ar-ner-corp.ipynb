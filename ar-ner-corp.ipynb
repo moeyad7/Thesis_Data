{
 "cells": [
  {
   "cell_type": "code",
   "execution_count": 43,
   "metadata": {},
   "outputs": [],
   "source": [
    "import pandas as pd\n",
    "\n",
    "data_dir = \"./Other_Datasets/ANERcorp/\"\n",
    "name = \"train\"\n",
    "\n",
    "bad_words = {'ARTICLE', 'REVISIT', 'ARTICLE', 'article', 'REVIIST', 'ARTICE', 'ARTICLE', 'FIX', 'ID', ' ', 'REVISSIT', 'REVISIIT'}\n",
    "\n",
    "sentences = []\n",
    "sentences_labels = []\n",
    "\n",
    "with open(data_dir + f\"{name}.txt\", 'r') as file:\n",
    "    sentence = []  # Initialize as a list\n",
    "    each_word_label = []\n",
    "    for i, line in enumerate(file):\n",
    "        # Check if the line is not empty\n",
    "        if line.strip():\n",
    "            parts = line.split(' ')\n",
    "            # Check if parts has enough elements\n",
    "            if len(parts) > 1:\n",
    "                word, label = parts[0], parts[1].strip()\n",
    "                # Check if the word is not in the set of bad words\n",
    "                if label not in bad_words:\n",
    "                    sentence.append(word)\n",
    "                    each_word_label.append(label)\n",
    "\n",
    "                # If the word is a period, it indicates the end of a sentence\n",
    "                if '.' == word.strip():\n",
    "                    if sentence:\n",
    "                        sentences.append(' '.join(sentence))\n",
    "                        sentences_labels.append(each_word_label)\n",
    "                        sentence = []\n",
    "                        each_word_label = []\n",
    "\n",
    "# Now you have sentences and their corresponding labels\n",
    "df = pd.DataFrame({'sentence': sentences, 'labels': sentences_labels})\n"
   ]
  },
  {
   "cell_type": "code",
   "execution_count": 44,
   "metadata": {},
   "outputs": [
    {
     "data": {
      "text/plain": [
       "'وقال رئيس الاتحاد برند جوتشولك عند إعلان آخر تقرير سنوي للاتحاد إن مستقبل السوق مازال يفتقر إلي الخطوط الواضحة .؟'"
      ]
     },
     "execution_count": 44,
     "metadata": {},
     "output_type": "execute_result"
    }
   ],
   "source": [
    "df.loc[1]['sentence'] + '؟'"
   ]
  },
  {
   "cell_type": "code",
   "execution_count": 45,
   "metadata": {},
   "outputs": [],
   "source": [
    "new_df = pd.DataFrame()\n",
    "\n",
    "for i in range(len(df)):\n",
    "    words = df['sentence'][i].split(' ')\n",
    "    labels = df['labels'][i]\n",
    "    num_words = len(words)\n",
    "    \n",
    "    for j in range(num_words):\n",
    "        new_row = pd.DataFrame({'label': [labels[j]], 'word': [words[j]], 'sentence': df['sentence'][i]})\n",
    "        new_df = pd.concat([new_df, new_row], ignore_index=True)\n"
   ]
  },
  {
   "cell_type": "code",
   "execution_count": 46,
   "metadata": {},
   "outputs": [
    {
     "data": {
      "text/plain": [
       "array(['B-LOC', 'B-ORG', 'I-ORG', 'O', 'B-PERS', 'I-PERS', 'I-LOC',\n",
       "       'B-MISC', 'I-MISC'], dtype=object)"
      ]
     },
     "execution_count": 46,
     "metadata": {},
     "output_type": "execute_result"
    }
   ],
   "source": [
    "new_df['label'].unique()"
   ]
  },
  {
   "cell_type": "code",
   "execution_count": 47,
   "metadata": {},
   "outputs": [],
   "source": [
    "new_df.to_csv(data_dir + f\"{name}.csv\", index=False, header=False)"
   ]
  },
  {
   "cell_type": "code",
   "execution_count": 48,
   "metadata": {},
   "outputs": [
    {
     "data": {
      "text/plain": [
       "' [MASK]أن النوع؟'"
      ]
     },
     "execution_count": 48,
     "metadata": {},
     "output_type": "execute_result"
    }
   ],
   "source": [
    "x = 67\n",
    "\n",
    "y =  ' [MASK]'+ new_df.loc[x]['word'] + ' النوع؟' \n",
    "y"
   ]
  },
  {
   "cell_type": "code",
   "execution_count": 49,
   "metadata": {},
   "outputs": [
    {
     "data": {
      "text/plain": [
       "'أن type:[MASK]'"
      ]
     },
     "execution_count": 49,
     "metadata": {},
     "output_type": "execute_result"
    }
   ],
   "source": [
    "x = 67\n",
    "\n",
    "y =   new_df.loc[x]['word'] + ' type:'+ '[MASK]' \n",
    "y"
   ]
  },
  {
   "cell_type": "code",
   "execution_count": 50,
   "metadata": {},
   "outputs": [],
   "source": [
    "type_df = new_df.copy()\n",
    "label_mapping = {\n",
    "    'B-LOC': 'LOC',\n",
    "    'I-LOC': 'LOC',\n",
    "    'B-PERS': 'PERS',\n",
    "    'I-PERS': 'PERS',\n",
    "    'B-ORG': 'ORG',\n",
    "    'I-ORG': 'ORG',\n",
    "    'B-MISC': 'MISC',\n",
    "    'I-MISC': 'MISC',\n",
    "    'O': 'O'\n",
    "}\n",
    "\n",
    "# Apply the mapping\n",
    "type_df['label'] = new_df['label'].map(label_mapping)"
   ]
  },
  {
   "cell_type": "code",
   "execution_count": 51,
   "metadata": {},
   "outputs": [],
   "source": [
    "location_df = new_df.copy()\n",
    "label_mapping = {\n",
    "    'B-LOC': 'Begin',\n",
    "    'I-LOC': 'Inside',\n",
    "    'B-PERS': 'Begin',\n",
    "    'I-PERS': 'Inside',\n",
    "    'B-ORG': 'Begin',\n",
    "    'I-ORG': 'Inside',\n",
    "    'B-MISC': 'Begin',\n",
    "    'I-MISC': 'Inside',\n",
    "    'O': 'O'\n",
    "}\n",
    "\n",
    "# Apply the mapping\n",
    "location_df['label'] = new_df['label'].map(label_mapping)"
   ]
  },
  {
   "cell_type": "code",
   "execution_count": 52,
   "metadata": {},
   "outputs": [
    {
     "data": {
      "text/plain": [
       "(array(['LOC', 'ORG', 'O', 'PERS', 'MISC'], dtype=object),\n",
       " array(['Begin', 'Inside', 'O'], dtype=object))"
      ]
     },
     "execution_count": 52,
     "metadata": {},
     "output_type": "execute_result"
    }
   ],
   "source": [
    "type_df['label'].unique(),location_df['label'].unique()"
   ]
  },
  {
   "cell_type": "code",
   "execution_count": 53,
   "metadata": {},
   "outputs": [],
   "source": [
    "data_dir = \"./Other_Datasets/ANERcorpType/\"\n",
    "\n",
    "type_df.to_csv(data_dir + f\"{name}.csv\", index=False, header=False)"
   ]
  },
  {
   "cell_type": "code",
   "execution_count": 54,
   "metadata": {},
   "outputs": [],
   "source": [
    "data_dir = \"./Other_Datasets/ANERcorpLocation/\"\n",
    "\n",
    "location_df.to_csv(data_dir + f\"{name}.csv\", index=False, header=False)\n"
   ]
  },
  {
   "cell_type": "code",
   "execution_count": null,
   "metadata": {},
   "outputs": [],
   "source": []
  }
 ],
 "metadata": {
  "kernelspec": {
   "display_name": "petenv",
   "language": "python",
   "name": "python3"
  },
  "language_info": {
   "codemirror_mode": {
    "name": "ipython",
    "version": 3
   },
   "file_extension": ".py",
   "mimetype": "text/x-python",
   "name": "python",
   "nbconvert_exporter": "python",
   "pygments_lexer": "ipython3",
   "version": "3.8.18"
  }
 },
 "nbformat": 4,
 "nbformat_minor": 2
}
