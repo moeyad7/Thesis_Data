{
 "cells": [
  {
   "cell_type": "code",
   "execution_count": 110,
   "metadata": {},
   "outputs": [],
   "source": [
    "import pandas as pd\n",
    "\n",
    "data_dir = \"./Other_Datasets/ANERcorp/\"\n",
    "name = \"train\"\n",
    "\n",
    "bad_words = {'ARTICLE', 'REVISIT', 'ARTICLE', 'article', 'REVIIST', 'ARTICE', 'ARTICLE', 'FIX', 'ID', ' ', 'REVISSIT', 'REVISIIT'}\n",
    "\n",
    "sentences = []\n",
    "sentences_labels = []\n",
    "\n",
    "with open(data_dir + f\"{name}.txt\", 'r') as file:\n",
    "    sentence = []  # Initialize as a list\n",
    "    each_word_label = []\n",
    "    for i, line in enumerate(file):\n",
    "        # Check if the line is not empty\n",
    "        if line.strip():\n",
    "            parts = line.split(' ')\n",
    "            # Check if parts has enough elements\n",
    "            if len(parts) > 1:\n",
    "                word, label = parts[0], parts[1].strip()\n",
    "                # Check if the word is not in the set of bad words\n",
    "                if label not in bad_words:\n",
    "                    if(word != '.'):\n",
    "                        sentence.append(word)\n",
    "                        each_word_label.append(label)\n",
    "\n",
    "                # If the word is a period, it indicates the end of a sentence\n",
    "                if '.' == word.strip():\n",
    "                    if sentence:\n",
    "                        sentences.append(' '.join(sentence))\n",
    "                        sentences_labels.append(each_word_label)\n",
    "                        sentence = []\n",
    "                        each_word_label = []\n",
    "\n",
    "# Now you have sentences and their corresponding labels\n",
    "df = pd.DataFrame({'sentence': sentences, 'labels': sentences_labels})\n"
   ]
  },
  {
   "cell_type": "code",
   "execution_count": 111,
   "metadata": {},
   "outputs": [
    {
     "data": {
      "text/plain": [
       "'وقال رئيس الاتحاد برند جوتشولك عند إعلان آخر تقرير سنوي للاتحاد إن مستقبل السوق مازال يفتقر إلي الخطوط الواضحة. كلمة'"
      ]
     },
     "execution_count": 111,
     "metadata": {},
     "output_type": "execute_result"
    }
   ],
   "source": [
    "df.loc[1]['sentence'] + '. كلمة'"
   ]
  },
  {
   "cell_type": "code",
   "execution_count": 112,
   "metadata": {},
   "outputs": [],
   "source": [
    "new_df = pd.DataFrame()\n",
    "\n",
    "for i in range(len(df)):\n",
    "    words = df['sentence'][i].split(' ')\n",
    "    labels = df['labels'][i]\n",
    "    num_words = len(words)\n",
    "    \n",
    "    for j in range(num_words):\n",
    "        new_row = pd.DataFrame({'label': [labels[j]], 'word': [words[j]], 'sentence': df['sentence'][i]})\n",
    "        new_df = pd.concat([new_df, new_row], ignore_index=True)\n"
   ]
  },
  {
   "cell_type": "code",
   "execution_count": 113,
   "metadata": {},
   "outputs": [
    {
     "data": {
      "text/plain": [
       "array(['B-LOC', 'B-ORG', 'I-ORG', 'O', 'B-PERS', 'I-PERS', 'I-LOC',\n",
       "       'B-MISC', 'I-MISC'], dtype=object)"
      ]
     },
     "execution_count": 113,
     "metadata": {},
     "output_type": "execute_result"
    }
   ],
   "source": [
    "new_df['label'].unique()"
   ]
  },
  {
   "cell_type": "code",
   "execution_count": 114,
   "metadata": {},
   "outputs": [],
   "source": [
    "new_df.to_csv(data_dir + f\"{name}.csv\", index=False, header=False)"
   ]
  },
  {
   "cell_type": "code",
   "execution_count": 123,
   "metadata": {},
   "outputs": [
    {
     "data": {
      "text/plain": [
       "'[MASK] وعلي الرغم من أنه قال أنه يتوقع أن تظل صادرات السيارات عند مستوي مرتفع هذا العام فإنه يبدو من غير المحتمل أن تصل إلي مستوي سجل نموها عام 2001 عندما زادت صادرات سيارات الركاب بنسبة ستة في المائة لتصل إلي 6.3 مليون سيارة. كلمة صادرات هي؟ '"
      ]
     },
     "execution_count": 123,
     "metadata": {},
     "output_type": "execute_result"
    }
   ],
   "source": [
    "x = 67\n",
    "\n",
    "y = '[MASK]' + ' ' + new_df.loc[x]['sentence'] + '. كلمة ' + new_df.loc[x]['word'] + ' هي؟ '\n",
    "y"
   ]
  },
  {
   "cell_type": "code",
   "execution_count": null,
   "metadata": {},
   "outputs": [],
   "source": []
  }
 ],
 "metadata": {
  "kernelspec": {
   "display_name": "petenv",
   "language": "python",
   "name": "python3"
  },
  "language_info": {
   "codemirror_mode": {
    "name": "ipython",
    "version": 3
   },
   "file_extension": ".py",
   "mimetype": "text/x-python",
   "name": "python",
   "nbconvert_exporter": "python",
   "pygments_lexer": "ipython3",
   "version": "3.8.18"
  }
 },
 "nbformat": 4,
 "nbformat_minor": 2
}
