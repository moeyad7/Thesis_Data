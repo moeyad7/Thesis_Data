{
 "cells": [
  {
   "cell_type": "code",
   "execution_count": 59,
   "metadata": {},
   "outputs": [],
   "source": [
    "import pandas as pd\n",
    "\n",
    "data_dir = \"./Other_Datasets/ANERcorp/\"\n",
    "name = \"dev\"\n",
    "\n",
    "bad_words = {'ARTICLE', 'REVISIT', 'ARTICLE', 'article', 'REVIIST', 'ARTICE', 'ARTICLE', 'FIX', 'ID', ' ', 'REVISSIT', 'REVISIIT'}\n",
    "\n",
    "sentences = []\n",
    "sentences_labels = []\n",
    "\n",
    "with open(data_dir + f\"{name}.txt\", 'r') as file:\n",
    "    sentence = []\n",
    "    each_word_label = []\n",
    "    for i, line in enumerate(file):\n",
    "        # Check if the line is not empty\n",
    "        if line.strip():\n",
    "            parts = line.split(' ')\n",
    "            # Check if parts has enough elements\n",
    "            if len(parts) > 1:\n",
    "                word, label = parts[0], parts[1].strip()\n",
    "                # Check if the word is not in the set of bad words\n",
    "                if label not in bad_words:\n",
    "                    sentence.append(word)\n",
    "                    each_word_label.append(label)\n",
    "\n",
    "                # If a the word is found a period, it indicates the end of a sentence\n",
    "                if '.' == word:\n",
    "                    if sentence:\n",
    "                        sentences.append(' '.join(sentence))\n",
    "                        sentences_labels.append(each_word_label)\n",
    "                        sentence = []\n",
    "                        each_word_label = []\n",
    "\n",
    "# Now you have sentences and their corresponding labels\n",
    "df = pd.DataFrame({'sentence': sentences, 'labels': sentences_labels})\n"
   ]
  },
  {
   "cell_type": "code",
   "execution_count": 60,
   "metadata": {},
   "outputs": [],
   "source": [
    "new_df = pd.DataFrame()\n",
    "\n",
    "for i in range(len(df)):\n",
    "    words = df['sentence'][i].split(' ')\n",
    "    labels = df['labels'][i]\n",
    "    num_words = len(words)\n",
    "    \n",
    "    for j in range(num_words):\n",
    "        new_row = pd.DataFrame({'label': [labels[j]], 'word': [words[j]], 'sentence': df['sentence'][i]})\n",
    "        new_df = pd.concat([new_df, new_row], ignore_index=True)\n"
   ]
  },
  {
   "cell_type": "code",
   "execution_count": 61,
   "metadata": {},
   "outputs": [
    {
     "data": {
      "text/plain": [
       "array(['O', 'B-LOC', 'I-LOC', 'B-ORG', 'B-PERS', 'I-PERS', 'B-MISC',\n",
       "       'I-ORG', 'I-MISC'], dtype=object)"
      ]
     },
     "execution_count": 61,
     "metadata": {},
     "output_type": "execute_result"
    }
   ],
   "source": [
    "new_df['label'].unique()"
   ]
  },
  {
   "cell_type": "code",
   "execution_count": 62,
   "metadata": {},
   "outputs": [
    {
     "data": {
      "text/html": [
       "<div>\n",
       "<style scoped>\n",
       "    .dataframe tbody tr th:only-of-type {\n",
       "        vertical-align: middle;\n",
       "    }\n",
       "\n",
       "    .dataframe tbody tr th {\n",
       "        vertical-align: top;\n",
       "    }\n",
       "\n",
       "    .dataframe thead th {\n",
       "        text-align: right;\n",
       "    }\n",
       "</style>\n",
       "<table border=\"1\" class=\"dataframe\">\n",
       "  <thead>\n",
       "    <tr style=\"text-align: right;\">\n",
       "      <th></th>\n",
       "      <th>label</th>\n",
       "      <th>word</th>\n",
       "      <th>sentence</th>\n",
       "    </tr>\n",
       "  </thead>\n",
       "  <tbody>\n",
       "  </tbody>\n",
       "</table>\n",
       "</div>"
      ],
      "text/plain": [
       "Empty DataFrame\n",
       "Columns: [label, word, sentence]\n",
       "Index: []"
      ]
     },
     "execution_count": 62,
     "metadata": {},
     "output_type": "execute_result"
    }
   ],
   "source": [
    "new_df.loc[new_df['label'] == '']"
   ]
  },
  {
   "cell_type": "code",
   "execution_count": 58,
   "metadata": {},
   "outputs": [],
   "source": [
    "new_df.to_csv(data_dir + f\"{name}.csv\", index=False, header=False)"
   ]
  },
  {
   "cell_type": "code",
   "execution_count": null,
   "metadata": {},
   "outputs": [],
   "source": []
  }
 ],
 "metadata": {
  "kernelspec": {
   "display_name": "petenv",
   "language": "python",
   "name": "python3"
  },
  "language_info": {
   "codemirror_mode": {
    "name": "ipython",
    "version": 3
   },
   "file_extension": ".py",
   "mimetype": "text/x-python",
   "name": "python",
   "nbconvert_exporter": "python",
   "pygments_lexer": "ipython3",
   "version": "3.8.18"
  }
 },
 "nbformat": 4,
 "nbformat_minor": 2
}
