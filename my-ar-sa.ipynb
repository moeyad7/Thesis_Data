{
 "cells": [
  {
   "cell_type": "code",
   "execution_count": 15,
   "metadata": {},
   "outputs": [],
   "source": [
    "import pandas as pd\n",
    "\n",
    "dataset_type = 'train'\n",
    "# Read the data\n",
    "df_negative = pd.read_csv(f'./Other_Datasets/MyArSA/{dataset_type}_Arabic_tweets_negative.tsv', encoding='utf-8', sep='\\t',names=['label','text'])\n",
    "df_positive = pd.read_csv(f'./Other_Datasets/MyArSA/{dataset_type}_Arabic_tweets_positive.tsv', encoding='utf-8', sep='\\t',names=['label','text'])\n"
   ]
  },
  {
   "cell_type": "code",
   "execution_count": 16,
   "metadata": {},
   "outputs": [],
   "source": [
    "full_df = pd.concat([df_negative, df_positive])\n",
    "full_df = full_df.sample(frac = 1)\n"
   ]
  },
  {
   "cell_type": "code",
   "execution_count": 17,
   "metadata": {},
   "outputs": [],
   "source": [
    "full_df.to_csv(f'./Other_Datasets/MyArSA/{dataset_type}.csv', index=False,header=False)"
   ]
  },
  {
   "cell_type": "code",
   "execution_count": null,
   "metadata": {},
   "outputs": [],
   "source": []
  }
 ],
 "metadata": {
  "kernelspec": {
   "display_name": "petenv",
   "language": "python",
   "name": "python3"
  },
  "language_info": {
   "codemirror_mode": {
    "name": "ipython",
    "version": 3
   },
   "file_extension": ".py",
   "mimetype": "text/x-python",
   "name": "python",
   "nbconvert_exporter": "python",
   "pygments_lexer": "ipython3",
   "version": "3.8.18"
  }
 },
 "nbformat": 4,
 "nbformat_minor": 2
}
