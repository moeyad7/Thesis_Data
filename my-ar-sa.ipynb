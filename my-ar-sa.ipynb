{
 "cells": [
  {
   "cell_type": "code",
   "execution_count": 15,
   "metadata": {},
   "outputs": [],
   "source": [
    "import pandas as pd\n",
    "\n",
    "dataset_type = 'train'\n",
    "# Read the data\n",
    "df_negative = pd.read_csv(f'./Other_Datasets/MyArSA/{dataset_type}_Arabic_tweets_negative.tsv', encoding='utf-8', sep='\\t',names=['label','text'])\n",
    "df_positive = pd.read_csv(f'./Other_Datasets/MyArSA/{dataset_type}_Arabic_tweets_positive.tsv', encoding='utf-8', sep='\\t',names=['label','text'])\n"
   ]
  },
  {
   "cell_type": "code",
   "execution_count": 16,
   "metadata": {},
   "outputs": [],
   "source": [
    "full_df = pd.concat([df_negative, df_positive])\n",
    "full_df = full_df.sample(frac = 1)\n"
   ]
  },
  {
   "cell_type": "code",
   "execution_count": 17,
   "metadata": {},
   "outputs": [],
   "source": [
    "full_df.to_csv(f'./Other_Datasets/MyArSA/{dataset_type}.csv', index=False,header=False)"
   ]
  },
  {
   "cell_type": "markdown",
   "metadata": {},
   "source": [
    "# Using Subset of the data"
   ]
  },
  {
   "cell_type": "code",
   "execution_count": 3,
   "metadata": {},
   "outputs": [],
   "source": [
    "import pandas as pd\n",
    "\n",
    "dataset_type = 'test'\n",
    "\n",
    "df = pd.read_csv(f\"./Other_Datasets/MyArSA/{dataset_type}.csv\", encoding='utf-8',names=['label','text'])"
   ]
  },
  {
   "cell_type": "code",
   "execution_count": 19,
   "metadata": {},
   "outputs": [],
   "source": [
    "import pandas as pd\n",
    "\n",
    "labels = df['label'].unique()\n",
    "number_of_items = 2500\n",
    "\n",
    "new_df = pd.DataFrame()\n",
    "\n",
    "for i in labels:\n",
    "    # Randomly sample number_of_items from each group\n",
    "    sampled_data = df[df['label'] == i].sample(n=number_of_items, random_state=42)  # You can change the random_state if needed\n",
    "    new_df = pd.concat([new_df, sampled_data], ignore_index=True)\n"
   ]
  },
  {
   "cell_type": "code",
   "execution_count": 23,
   "metadata": {},
   "outputs": [],
   "source": [
    "new_df = new_df.sample(frac = 1)\n",
    "new_df.to_csv(f'test.csv', index=False,header=False)"
   ]
  },
  {
   "cell_type": "code",
   "execution_count": null,
   "metadata": {},
   "outputs": [],
   "source": []
  }
 ],
 "metadata": {
  "kernelspec": {
   "display_name": "petenv",
   "language": "python",
   "name": "python3"
  },
  "language_info": {
   "codemirror_mode": {
    "name": "ipython",
    "version": 3
   },
   "file_extension": ".py",
   "mimetype": "text/x-python",
   "name": "python",
   "nbconvert_exporter": "python",
   "pygments_lexer": "ipython3",
   "version": "3.8.18"
  }
 },
 "nbformat": 4,
 "nbformat_minor": 2
}
