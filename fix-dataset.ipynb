{
 "cells": [
  {
   "cell_type": "code",
   "execution_count": 122,
   "metadata": {},
   "outputs": [],
   "source": [
    "import jsonlines\n",
    "import random\n",
    "file_path = './combined/AX-g/AX-g.jsonl'\n",
    "data = []\n",
    "with jsonlines.open(file_path, 'r') as reader:\n",
    "    for obj in reader:\n",
    "        data.append(obj)"
   ]
  },
  {
   "cell_type": "code",
   "execution_count": 123,
   "metadata": {},
   "outputs": [
    {
     "data": {
      "text/plain": [
       "356"
      ]
     },
     "execution_count": 123,
     "metadata": {},
     "output_type": "execute_result"
    }
   ],
   "source": [
    "len(data)"
   ]
  },
  {
   "cell_type": "code",
   "execution_count": 124,
   "metadata": {},
   "outputs": [],
   "source": [
    "# Shuffle the data to ensure randomness before splitting\n",
    "random.shuffle(data)\n",
    "\n",
    "# Calculate the split sizes\n",
    "total_samples = len(data)\n",
    "train_size = int(0.7 * total_samples)\n",
    "dev_size = int(0.1 * total_samples)\n",
    "test_size = total_samples - train_size - dev_size\n",
    "\n",
    "# Split the data\n",
    "train = data[:train_size]\n",
    "dev = data[train_size:train_size + dev_size]\n",
    "test = data[train_size + dev_size:]"
   ]
  },
  {
   "cell_type": "code",
   "execution_count": 125,
   "metadata": {},
   "outputs": [
    {
     "data": {
      "text/plain": [
       "(249, 35, 72)"
      ]
     },
     "execution_count": 125,
     "metadata": {},
     "output_type": "execute_result"
    }
   ],
   "source": [
    "len(train), len(dev), len(test)"
   ]
  },
  {
   "cell_type": "code",
   "execution_count": 126,
   "metadata": {},
   "outputs": [],
   "source": [
    "# Create a dictionary to store data points grouped by label\n",
    "label_groups = {}\n",
    "\n",
    "# Group data points by label\n",
    "for data_point in train:\n",
    "    label = data_point.get('label')\n",
    "    if label not in label_groups:\n",
    "        label_groups[label] = []\n",
    "    label_groups[label].append(data_point)\n",
    "\n",
    "# Initialize variables\n",
    "sample_train = []\n",
    "target_label_count = 32 // len(label_groups)\n"
   ]
  },
  {
   "cell_type": "code",
   "execution_count": 127,
   "metadata": {},
   "outputs": [
    {
     "data": {
      "text/plain": [
       "(249, 0)"
      ]
     },
     "execution_count": 127,
     "metadata": {},
     "output_type": "execute_result"
    }
   ],
   "source": [
    "len(train), len(sample_train)"
   ]
  },
  {
   "cell_type": "code",
   "execution_count": 128,
   "metadata": {},
   "outputs": [
    {
     "data": {
      "text/plain": [
       "dict_keys(['entailment', 'not_entailment'])"
      ]
     },
     "execution_count": 128,
     "metadata": {},
     "output_type": "execute_result"
    }
   ],
   "source": [
    "label_groups.keys()"
   ]
  },
  {
   "cell_type": "code",
   "execution_count": 129,
   "metadata": {},
   "outputs": [],
   "source": [
    "# Select data points to add to sample_train\n",
    "for label, data_points in label_groups.items():\n",
    "    sample_train.extend(data_points[:target_label_count])\n",
    "random.shuffle(sample_train)"
   ]
  },
  {
   "cell_type": "code",
   "execution_count": 130,
   "metadata": {},
   "outputs": [
    {
     "data": {
      "text/plain": [
       "(249, 32)"
      ]
     },
     "execution_count": 130,
     "metadata": {},
     "output_type": "execute_result"
    }
   ],
   "source": [
    "len(train), len(sample_train)"
   ]
  },
  {
   "cell_type": "code",
   "execution_count": 131,
   "metadata": {},
   "outputs": [],
   "source": [
    "unlabelled = [x for x in train if x not in sample_train]\n"
   ]
  },
  {
   "cell_type": "code",
   "execution_count": 132,
   "metadata": {},
   "outputs": [
    {
     "data": {
      "text/plain": [
       "(249, 32, 217)"
      ]
     },
     "execution_count": 132,
     "metadata": {},
     "output_type": "execute_result"
    }
   ],
   "source": [
    "len(train), len(sample_train),len(unlabelled)"
   ]
  },
  {
   "cell_type": "code",
   "execution_count": 133,
   "metadata": {},
   "outputs": [],
   "source": [
    "\n",
    "# Save the train set to a JSONL file\n",
    "with jsonlines.open('train.jsonl', 'w') as writer:\n",
    "    writer.write_all(train)\n",
    "\n",
    "# Save the dev set to a JSONL file\n",
    "with jsonlines.open('val.jsonl', 'w') as writer:\n",
    "    writer.write_all(dev)\n",
    "\n",
    "# Save the test set to a JSONL file\n",
    "with jsonlines.open('test.jsonl', 'w') as writer:\n",
    "    writer.write_all(test)\n",
    "    \n",
    "# Save the unlabeled set to a JSONL file\n",
    "with jsonlines.open('unlabeled.jsonl', 'w') as writer:\n",
    "    writer.write_all(unlabelled)\n",
    "    \n",
    "# Save the 32 only train set to a JSONL file\n",
    "with jsonlines.open('train32.jsonl', 'w') as writer:\n",
    "    writer.write_all(sample_train)"
   ]
  },
  {
   "cell_type": "code",
   "execution_count": null,
   "metadata": {},
   "outputs": [],
   "source": []
  }
 ],
 "metadata": {
  "kernelspec": {
   "display_name": "base",
   "language": "python",
   "name": "python3"
  },
  "language_info": {
   "codemirror_mode": {
    "name": "ipython",
    "version": 3
   },
   "file_extension": ".py",
   "mimetype": "text/x-python",
   "name": "python",
   "nbconvert_exporter": "python",
   "pygments_lexer": "ipython3",
   "version": "3.11.4"
  }
 },
 "nbformat": 4,
 "nbformat_minor": 2
}
