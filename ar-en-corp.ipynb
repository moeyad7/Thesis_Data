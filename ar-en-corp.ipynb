{
 "cells": [
  {
   "cell_type": "code",
   "execution_count": 210,
   "metadata": {},
   "outputs": [
    {
     "name": "stdout",
     "output_type": "stream",
     "text": [
      "Error in line 357: ARTICLE\n",
      "Error in line 565: ARTICLE\n",
      "Error in line 732: ARTICLE\n",
      "Error in line 903: ARTICLE\n",
      "Error in line 1025: ARTICLE\n",
      "Error in line 1393: ARTICLE\n",
      "Error in line 1856: ARTICLE\n",
      "Error in line 2131: ARTICLE\n",
      "Error in line 2335: ARTICLE\n",
      "Error in line 2883: ARTICLE\n",
      "Error in line 3177: ARTICLE\n",
      "Error in line 3327: ARTICLE\n",
      "Error in line 3475: ARTICLE\n",
      "Error in line 3960: ARTICLE\n",
      "Error in line 4576: ARTICLE\n",
      "Error in line 5002: ARTICLE\n",
      "Error in line 6737: ARTICLE\n",
      "Error in line 7812: ARTICLE\n",
      "Error in line 8457: ARTICLE\n",
      "Error in line 8684: ARTICLE\n",
      "Error in line 9073: ARTICLE\n",
      "Error in line 10084: ARTICLE\n",
      "Error in line 10623: ARTICLE\n",
      "Error in line 11265: ARTICLE\n",
      "Error in line 11636: ARTICLE\n",
      "Error in line 11835: ARTICLE\n",
      "Error in line 12256: ARTICLE\n",
      "Error in line 12413: ARTICLE\n",
      "Error in line 12901: ARTICLE\n",
      "Error in line 13147: ARTICLE\n",
      "Error in line 13333: ARTICLE\n",
      "Error in line 13703: article\n",
      "Error in line 13871: ARTICLE\n",
      "Error in line 14223: ARTICLE\n",
      "Error in line 15248: ARTICLE\n"
     ]
    }
   ],
   "source": [
    "import pandas as pd\n",
    "\n",
    "# Replace 'your_file.txt' with the actual path to your text file\n",
    "data_dir = \"./Other_Datasets/ANERcorp/\"\n",
    "name = \"val\"\n",
    "data = []\n",
    "\n",
    "bad_words = {'ARTICLE', 'REVISIT','ARTICLE','article','REVIIST','ARTICE','ARTICLE','FIX','ID',' ','REVISSIT','REVISIIT'}\n",
    "\n",
    "with open(data_dir + f\"{name}-og.txt\", 'r') as file:\n",
    "    for i, line in enumerate(file):\n",
    "        # Skip empty lines\n",
    "        if line.strip() == '':\n",
    "            continue\n",
    "\n",
    "        try:\n",
    "            # Split the line by space\n",
    "            parts = line.strip().split(' ')\n",
    "\n",
    "            # Check if there are more than two values\n",
    "            if len(parts) > 2:\n",
    "                word = parts[0]\n",
    "                # Combine the rest with a hyphen, but avoid combining spaces\n",
    "                tag_parts = [p for p in parts[1:] if p not in bad_words]\n",
    "                tag = '-'.join(tag_parts)\n",
    "                tag = tag.upper()\n",
    "            else:\n",
    "                word, tag = parts\n",
    "                tag = tag.upper()\n",
    "\n",
    "            data.append([word, tag,i+1])\n",
    "        except ValueError:\n",
    "            print(f\"Error in line {i + 1}: {line.strip()}\")\n",
    "            continue\n",
    "\n",
    "df = pd.DataFrame(data, columns=['word', 'tag',\"number\"])\n"
   ]
  },
  {
   "cell_type": "code",
   "execution_count": 211,
   "metadata": {},
   "outputs": [],
   "source": [
    "df.loc[df['tag'] == 'ID', 'tag'] = 'O'"
   ]
  },
  {
   "cell_type": "code",
   "execution_count": 212,
   "metadata": {},
   "outputs": [
    {
     "data": {
      "text/plain": [
       "tag\n",
       "O         12940\n",
       "B-ORG       453\n",
       "B-PERS      376\n",
       "B-LOC       373\n",
       "I-PERS      365\n",
       "I-ORG       274\n",
       "B-MISC      106\n",
       "I-MISC       66\n",
       "I-LOC        59\n",
       "O-I           1\n",
       "O-.-O         1\n",
       "Name: count, dtype: int64"
      ]
     },
     "execution_count": 212,
     "metadata": {},
     "output_type": "execute_result"
    }
   ],
   "source": [
    "df['tag'].value_counts()"
   ]
  },
  {
   "cell_type": "code",
   "execution_count": 213,
   "metadata": {},
   "outputs": [],
   "source": [
    "tag_counts = df['tag'].value_counts()\n",
    "tags_to_drop = tag_counts[tag_counts < 10].index\n",
    "df = df[~df['tag'].isin(tags_to_drop)]\n"
   ]
  },
  {
   "cell_type": "code",
   "execution_count": 214,
   "metadata": {},
   "outputs": [
    {
     "data": {
      "text/plain": [
       "tag\n",
       "B-LOC       373\n",
       "B-MISC      106\n",
       "B-ORG       453\n",
       "B-PERS      376\n",
       "I-LOC        59\n",
       "I-MISC       66\n",
       "I-ORG       274\n",
       "I-PERS      365\n",
       "O         12940\n",
       "Name: count, dtype: int64"
      ]
     },
     "execution_count": 214,
     "metadata": {},
     "output_type": "execute_result"
    }
   ],
   "source": [
    "df['tag'].value_counts().sort_index()"
   ]
  },
  {
   "cell_type": "code",
   "execution_count": 215,
   "metadata": {},
   "outputs": [
    {
     "data": {
      "text/plain": [
       "9"
      ]
     },
     "execution_count": 215,
     "metadata": {},
     "output_type": "execute_result"
    }
   ],
   "source": [
    "df['tag'].nunique()"
   ]
  },
  {
   "cell_type": "code",
   "execution_count": 216,
   "metadata": {},
   "outputs": [],
   "source": [
    "# write file to csv\n",
    "df.to_csv(data_dir + f\"{name}.csv\", index=False)"
   ]
  },
  {
   "cell_type": "code",
   "execution_count": null,
   "metadata": {},
   "outputs": [],
   "source": []
  }
 ],
 "metadata": {
  "kernelspec": {
   "display_name": "petenv",
   "language": "python",
   "name": "python3"
  },
  "language_info": {
   "codemirror_mode": {
    "name": "ipython",
    "version": 3
   },
   "file_extension": ".py",
   "mimetype": "text/x-python",
   "name": "python",
   "nbconvert_exporter": "python",
   "pygments_lexer": "ipython3",
   "version": "3.8.18"
  }
 },
 "nbformat": 4,
 "nbformat_minor": 2
}
