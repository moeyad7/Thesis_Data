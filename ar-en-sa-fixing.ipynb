{
 "cells": [
  {
   "cell_type": "code",
   "execution_count": 1,
   "metadata": {},
   "outputs": [],
   "source": [
    "import pandas as pd\n",
    "import re\n"
   ]
  },
  {
   "cell_type": "code",
   "execution_count": 2,
   "metadata": {},
   "outputs": [],
   "source": [
    "data_dir = \"./Other_Datasets/ArEnSA/\"\n",
    "name = \"train\"\n",
    "\n",
    "data = pd.read_csv(data_dir + f\"{name}.csv\", encoding=\"utf-8\",header=None)"
   ]
  },
  {
   "cell_type": "code",
   "execution_count": 3,
   "metadata": {},
   "outputs": [
    {
     "data": {
      "text/plain": [
       "(2464, 2)"
      ]
     },
     "execution_count": 3,
     "metadata": {},
     "output_type": "execute_result"
    }
   ],
   "source": [
    "data.shape"
   ]
  },
  {
   "cell_type": "code",
   "execution_count": 64,
   "metadata": {},
   "outputs": [],
   "source": [
    "def preprocessing(sentence):\n",
    "  sentence = re.sub('@[^\\s]+','',sentence)\n",
    "  sentence = re.sub('http[^\\s]+','',sentence)\n",
    "  sentence = re.sub(r\"(\\\\n|\\\\r|\\\\t|\\\\|\\b|\\f|\\'|\\\")\", \"\", sentence).strip()\n",
    "\n",
    "  return sentence"
   ]
  },
  {
   "cell_type": "code",
   "execution_count": 65,
   "metadata": {},
   "outputs": [],
   "source": [
    "# apply preprocessing function to the data\n",
    "data[0] = data[0].apply(preprocessing)"
   ]
  },
  {
   "cell_type": "code",
   "execution_count": 66,
   "metadata": {},
   "outputs": [
    {
     "data": {
      "text/plain": [
       "(818, 2)"
      ]
     },
     "execution_count": 66,
     "metadata": {},
     "output_type": "execute_result"
    }
   ],
   "source": [
    "data.shape"
   ]
  },
  {
   "cell_type": "code",
   "execution_count": 61,
   "metadata": {},
   "outputs": [],
   "source": [
    "# save the data\n",
    "data.to_csv(f\"./{name}.csv\", index=False, encoding=\"utf-8\", header=None)"
   ]
  },
  {
   "cell_type": "markdown",
   "metadata": {},
   "source": [
    "# Decreasing the size of sentences"
   ]
  },
  {
   "cell_type": "code",
   "execution_count": 101,
   "metadata": {},
   "outputs": [],
   "source": [
    "import pandas as pd\n",
    "data_dir = \"./Other_Datasets/ArEnSA/\"\n",
    "name = \"train\"\n",
    "\n",
    "data = pd.read_csv(data_dir + f\"{name}.csv\", encoding=\"utf-8\",header=None, names=[\"text\", \"label\"])"
   ]
  },
  {
   "cell_type": "code",
   "execution_count": 97,
   "metadata": {},
   "outputs": [],
   "source": [
    "modified_data = data.copy()\n",
    "def truncate_text(text, max_words=40):\n",
    "    sentence = text.split(' ') \n",
    "    truncated_sentences = sentence[:max_words]\n",
    "\n",
    "    truncated_text = ' '.join(truncated_sentences)\n",
    "    return truncated_text\n",
    "\n",
    "# Apply the truncation function to the 'text' column\n",
    "modified_data['text'] = data['text'].apply(truncate_text)\n",
    "\n",
    "# Display the modified DataFrame\n",
    "# print(modified_data)"
   ]
  },
  {
   "cell_type": "code",
   "execution_count": 98,
   "metadata": {},
   "outputs": [],
   "source": [
    "# count the number of words in each sentence in data\n",
    "def count_words(data):\n",
    "    word_counts = []\n",
    "    for sentence in data:\n",
    "        sentence_word_list = sentence.split(\" \")\n",
    "        word_counts.append(len(sentence_word_list))\n",
    "    return word_counts\n",
    "\n",
    "#sort it\n",
    "# sorted(count_words(modified_data['text']),reverse=True)"
   ]
  },
  {
   "cell_type": "code",
   "execution_count": 99,
   "metadata": {},
   "outputs": [],
   "source": [
    "modified_data.to_csv(f\"./{name}.csv\", index=False, encoding=\"utf-8\", header=None)\n"
   ]
  },
  {
   "cell_type": "code",
   "execution_count": 100,
   "metadata": {},
   "outputs": [
    {
     "data": {
      "text/plain": [
       "630    الإعلان مبهج و جميل و مفرح بصوت تامر حسني مع ظ...\n",
       "Name: text, dtype: object"
      ]
     },
     "execution_count": 100,
     "metadata": {},
     "output_type": "execute_result"
    }
   ],
   "source": [
    "word_to_check = \"zed\"\n",
    "\n",
    "# Check if the word is in any sentence in the 'sentences' column\n",
    "result = modified_data['text'].apply(lambda sentence: word_to_check in sentence.lower())\n",
    "modified_data[result]['text']"
   ]
  },
  {
   "cell_type": "code",
   "execution_count": null,
   "metadata": {},
   "outputs": [],
   "source": []
  }
 ],
 "metadata": {
  "kernelspec": {
   "display_name": "base",
   "language": "python",
   "name": "python3"
  },
  "language_info": {
   "codemirror_mode": {
    "name": "ipython",
    "version": 3
   },
   "file_extension": ".py",
   "mimetype": "text/x-python",
   "name": "python",
   "nbconvert_exporter": "python",
   "pygments_lexer": "ipython3",
   "version": "3.8.18"
  }
 },
 "nbformat": 4,
 "nbformat_minor": 2
}
