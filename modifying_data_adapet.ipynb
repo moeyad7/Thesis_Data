{
 "cells": [
  {
   "cell_type": "code",
   "execution_count": 17,
   "metadata": {},
   "outputs": [],
   "source": [
    "import csv\n",
    "import json\n",
    "\n",
    "dataset = 'test' \n",
    "csv_file_path = f'./Other_Datasets/ArEnSA/{dataset}.csv'\n",
    "jsonl_file_path = f'./Other_Datasets/ArEnSA/{dataset}.jsonl'\n",
    "\n",
    "with open(csv_file_path, 'r') as file:\n",
    "    # Create a CSV reader object\n",
    "    csv_reader = csv.reader(file)\n",
    "\n",
    "    # Open a JSONL file for writing\n",
    "    with open(jsonl_file_path, 'w', encoding='utf-8') as jsonl_file:\n",
    "        # Iterate over each row in the CSV file\n",
    "        for row in csv_reader:\n",
    "            # 'row' is a list representing each row in the CSV\n",
    "            dict_row = {\"TEXT1\": row[0], \"LBL\": row[1]}\n",
    "\n",
    "            # Write the JSON object to the JSONL file with ensure_ascii=False\n",
    "            jsonl_file.write(json.dumps(dict_row, ensure_ascii=False) + '\\n')\n"
   ]
  },
  {
   "cell_type": "code",
   "execution_count": null,
   "metadata": {},
   "outputs": [],
   "source": []
  }
 ],
 "metadata": {
  "kernelspec": {
   "display_name": "petenv",
   "language": "python",
   "name": "python3"
  },
  "language_info": {
   "codemirror_mode": {
    "name": "ipython",
    "version": 3
   },
   "file_extension": ".py",
   "mimetype": "text/x-python",
   "name": "python",
   "nbconvert_exporter": "python",
   "pygments_lexer": "ipython3",
   "version": "3.8.18"
  }
 },
 "nbformat": 4,
 "nbformat_minor": 2
}
